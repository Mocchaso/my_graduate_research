{
 "cells": [
  {
   "cell_type": "code",
   "execution_count": 1,
   "metadata": {
    "collapsed": true
   },
   "outputs": [],
   "source": [
    "from my_data_preparation_kit import word_table_json_name, synonym_table_json_name, load_json_as_dict\n",
    "import my_feature_vector_creator_kit as my_fvckit\n",
    "from tqdm import tqdm_notebook as tqdm"
   ]
  },
  {
   "cell_type": "code",
   "execution_count": 2,
   "metadata": {
    "scrolled": true
   },
   "outputs": [
    {
     "data": {
      "application/vnd.jupyter.widget-view+json": {
       "model_id": "ef5f75bbcf2e44d99f4288b3b5e4656f",
       "version_major": 2,
       "version_minor": 0
      },
      "text/plain": [
       "HBox(children=(IntProgress(value=0, max=1), HTML(value='')))"
      ]
     },
     "metadata": {},
     "output_type": "display_data"
    },
    {
     "name": "stdout",
     "output_type": "stream",
     "text": [
      "Finished loading pn_ja.dic.\n",
      "Finished getting all user talks from dialogue_corpus.db: about 0.20714616775512695 seconds.\n",
      "Finished getting all analyzed user talks: about 0.22015690803527832 seconds.\n",
      "Finished making bag of words vector: about 0.8445978164672852 seconds.\n",
      "Finished saving bag of words vector: about 4.734654903411865 seconds.\n",
      "\n"
     ]
    }
   ],
   "source": [
    "## 特徴ベクトルを作成し、txtファイルとして保存する\n",
    "## このセルは1回実行しておくだけでOK。それ以降はtxtファイルを読み込む\n",
    "\n",
    "# data_preparation.ipynbで保存したword_tableとsynonym_tableを読み込む\n",
    "word_table = load_json_as_dict(word_table_json_name)       # print(convert_dict_to_json(word_table, 4))   -> {\"u\\...\": [], ... }\n",
    "synonym_table = load_json_as_dict(synonym_table_json_name) # print(word_table[\"食べる\"])                  -> [235301]\n",
    "# bag of wordsの保存先のパス（ファイル名）\n",
    "svr_bow_txt_path = \"svr_bow_vec.txt\"\n",
    "\n",
    "# 進捗状況付きの関数リスト\n",
    "# 参考サイト：http://szarny.hatenablog.com/entry/2017/09/13/162752\n",
    "func_with_progress = tqdm([my_fvckit.make_svr_learning_feature])\n",
    "for i, func in enumerate(func_with_progress):\n",
    "    if i == 0:\n",
    "        func(word_table, synonym_table, svr_bow_txt_path)"
   ]
  },
  {
   "cell_type": "code",
   "execution_count": null,
   "metadata": {
    "collapsed": true
   },
   "outputs": [],
   "source": []
  }
 ],
 "metadata": {
  "kernelspec": {
   "display_name": "Python 3",
   "language": "python",
   "name": "python3"
  },
  "language_info": {
   "codemirror_mode": {
    "name": "ipython",
    "version": 3
   },
   "file_extension": ".py",
   "mimetype": "text/x-python",
   "name": "python",
   "nbconvert_exporter": "python",
   "pygments_lexer": "ipython3",
   "version": "3.6.3"
  }
 },
 "nbformat": 4,
 "nbformat_minor": 2
}
