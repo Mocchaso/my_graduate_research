{
 "cells": [
  {
   "cell_type": "code",
   "execution_count": null,
   "metadata": {
    "collapsed": true
   },
   "outputs": [],
   "source": [
    "def estimate_acceptance():\n",
    "    \"\"\"\n",
    "    ユーザの受諾度合いの推定\n",
    "    学習データ：入力とするユーザ発話の特徴ベクトルおよび出力する正解ラベル\n",
    "    正解ラベル -> 発話に付与される5段階のユーザの受諾度合いラベルを用いる\n",
    "    \"\"\"\n",
    "\n",
    "# システムから発話\n",
    "# ユーザの入力発話\n",
    "# ユーザの受諾度合いの推定\n",
    "# システム感情の遷移\n",
    "# 応答文選択\n",
    "# システムの応答"
   ]
  }
 ],
 "metadata": {
  "kernelspec": {
   "display_name": "Python 3",
   "language": "python",
   "name": "python3"
  },
  "language_info": {
   "codemirror_mode": {
    "name": "ipython",
    "version": 3
   },
   "file_extension": ".py",
   "mimetype": "text/x-python",
   "name": "python",
   "nbconvert_exporter": "python",
   "pygments_lexer": "ipython3",
   "version": "3.6.3"
  }
 },
 "nbformat": 4,
 "nbformat_minor": 2
}
