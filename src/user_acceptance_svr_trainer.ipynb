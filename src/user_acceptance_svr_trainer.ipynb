{
 "cells": [
  {
   "cell_type": "code",
   "execution_count": 1,
   "metadata": {
    "colab": {
     "base_uri": "https://localhost:8080/",
     "height": 35
    },
    "colab_type": "code",
    "executionInfo": {
     "elapsed": 4059,
     "status": "ok",
     "timestamp": 1538652283094,
     "user": {
      "displayName": "坂本倖輝",
      "photoUrl": "",
      "userId": "05392787309479156716"
     },
     "user_tz": -540
    },
    "id": "Ebou2gwvKkTu",
    "outputId": "316fe875-88b2-47b0-d018-ff383e5dac9e"
   },
   "outputs": [
    {
     "ename": "ModuleNotFoundError",
     "evalue": "No module named 'tensorflow'",
     "output_type": "error",
     "traceback": [
      "\u001b[1;31m---------------------------------------------------------------------------\u001b[0m",
      "\u001b[1;31mModuleNotFoundError\u001b[0m                       Traceback (most recent call last)",
      "\u001b[1;32m<ipython-input-1-69371af7e34f>\u001b[0m in \u001b[0;36m<module>\u001b[1;34m()\u001b[0m\n\u001b[0;32m      1\u001b[0m \u001b[1;31m# GPUのアサイン確認\u001b[0m\u001b[1;33m\u001b[0m\u001b[1;33m\u001b[0m\u001b[0m\n\u001b[1;32m----> 2\u001b[1;33m \u001b[1;32mimport\u001b[0m \u001b[0mtensorflow\u001b[0m \u001b[1;32mas\u001b[0m \u001b[0mtf\u001b[0m\u001b[1;33m\u001b[0m\u001b[0m\n\u001b[0m\u001b[0;32m      3\u001b[0m \u001b[0mtf\u001b[0m\u001b[1;33m.\u001b[0m\u001b[0mtest\u001b[0m\u001b[1;33m.\u001b[0m\u001b[0mgpu_device_name\u001b[0m\u001b[1;33m(\u001b[0m\u001b[1;33m)\u001b[0m\u001b[1;33m\u001b[0m\u001b[0m\n",
      "\u001b[1;31mModuleNotFoundError\u001b[0m: No module named 'tensorflow'"
     ]
    }
   ],
   "source": [
    "# GPUのアサイン確認\n",
    "import tensorflow as tf\n",
    "tf.test.gpu_device_name()"
   ]
  },
  {
   "cell_type": "code",
   "execution_count": 2,
   "metadata": {
    "colab": {
     "base_uri": "https://localhost:8080/",
     "height": 847
    },
    "colab_type": "code",
    "executionInfo": {
     "elapsed": 7887,
     "status": "ok",
     "timestamp": 1538652291071,
     "user": {
      "displayName": "坂本倖輝",
      "photoUrl": "",
      "userId": "05392787309479156716"
     },
     "user_tz": -540
    },
    "id": "b0bWkWB6I5Kn",
    "outputId": "266dcba0-3408-4583-ec95-ce1e5d287d8d"
   },
   "outputs": [
    {
     "name": "stdout",
     "output_type": "stream",
     "text": [
      "Requirement already satisfied: tqdm in c:\\users\\admin\\anaconda3\\lib\\site-packages (4.26.0)\n"
     ]
    },
    {
     "name": "stderr",
     "output_type": "stream",
     "text": [
      "Invalid requirement: '#'\n",
      "Traceback (most recent call last):\n",
      "  File \"c:\\users\\admin\\anaconda3\\lib\\site-packages\\pip\\_vendor\\packaging\\requirements.py\", line 93, in __init__\n",
      "    req = REQUIREMENT.parseString(requirement_string)\n",
      "  File \"c:\\users\\admin\\anaconda3\\lib\\site-packages\\pip\\_vendor\\pyparsing.py\", line 1632, in parseString\n",
      "    raise exc\n",
      "  File \"c:\\users\\admin\\anaconda3\\lib\\site-packages\\pip\\_vendor\\pyparsing.py\", line 1622, in parseString\n",
      "    loc, tokens = self._parse( instring, 0 )\n",
      "  File \"c:\\users\\admin\\anaconda3\\lib\\site-packages\\pip\\_vendor\\pyparsing.py\", line 1379, in _parseNoCache\n",
      "    loc,tokens = self.parseImpl( instring, preloc, doActions )\n",
      "  File \"c:\\users\\admin\\anaconda3\\lib\\site-packages\\pip\\_vendor\\pyparsing.py\", line 3395, in parseImpl\n",
      "    loc, exprtokens = e._parse( instring, loc, doActions )\n",
      "  File \"c:\\users\\admin\\anaconda3\\lib\\site-packages\\pip\\_vendor\\pyparsing.py\", line 1379, in _parseNoCache\n",
      "    loc,tokens = self.parseImpl( instring, preloc, doActions )\n",
      "  File \"c:\\users\\admin\\anaconda3\\lib\\site-packages\\pip\\_vendor\\pyparsing.py\", line 3717, in parseImpl\n",
      "    return self.expr._parse( instring, loc, doActions, callPreParse=False )\n",
      "  File \"c:\\users\\admin\\anaconda3\\lib\\site-packages\\pip\\_vendor\\pyparsing.py\", line 1379, in _parseNoCache\n",
      "    loc,tokens = self.parseImpl( instring, preloc, doActions )\n",
      "  File \"c:\\users\\admin\\anaconda3\\lib\\site-packages\\pip\\_vendor\\pyparsing.py\", line 3378, in parseImpl\n",
      "    loc, resultlist = self.exprs[0]._parse( instring, loc, doActions, callPreParse=False )\n",
      "  File \"c:\\users\\admin\\anaconda3\\lib\\site-packages\\pip\\_vendor\\pyparsing.py\", line 1383, in _parseNoCache\n",
      "    loc,tokens = self.parseImpl( instring, preloc, doActions )\n",
      "  File \"c:\\users\\admin\\anaconda3\\lib\\site-packages\\pip\\_vendor\\pyparsing.py\", line 2689, in parseImpl\n",
      "    raise ParseException(instring, loc, self.errmsg, self)\n",
      "pip._vendor.pyparsing.ParseException: Expected W:(abcd...) (at char 0), (line:1, col:1)\n",
      "\n",
      "During handling of the above exception, another exception occurred:\n",
      "\n",
      "Traceback (most recent call last):\n",
      "  File \"c:\\users\\admin\\anaconda3\\lib\\site-packages\\pip\\_internal\\req\\req_install.py\", line 253, in from_line\n",
      "    req = Requirement(req)\n",
      "  File \"c:\\users\\admin\\anaconda3\\lib\\site-packages\\pip\\_vendor\\packaging\\requirements.py\", line 97, in __init__\n",
      "    requirement_string[e.loc:e.loc + 8]))\n",
      "pip._vendor.packaging.requirements.InvalidRequirement: Invalid requirement, parse error at \"'#'\"\n",
      "\n",
      "'apt-get' は、内部コマンドまたは外部コマンド、\n",
      "操作可能なプログラムまたはバッチ ファイルとして認識されていません。\n"
     ]
    },
    {
     "name": "stdout",
     "output_type": "stream",
     "text": [
      "Collecting mecab-python3\n",
      "  Using cached https://files.pythonhosted.org/packages/25/e9/bbf5fc790a2bedd96fbaf47a84afa060bfb0b3e0217e5f64b32bd4bbad69/mecab-python3-0.7.tar.gz\n",
      "    Complete output from command python setup.py egg_info:\n",
      "    'mecab-config' は、内部コマンドまたは外部コマンド、\n",
      "    操作可能なプログラムまたはバッチ ファイルとして認識されていません。\n",
      "    Traceback (most recent call last):\n",
      "      File \"<string>\", line 1, in <module>\n",
      "      File \"C:\\Users\\admin\\AppData\\Local\\Temp\\pip-install-kgjr35vl\\mecab-python3\\setup.py\", line 41, in <module>\n",
      "        include_dirs=cmd2(\"mecab-config --inc-dir\"),\n",
      "      File \"C:\\Users\\admin\\AppData\\Local\\Temp\\pip-install-kgjr35vl\\mecab-python3\\setup.py\", line 21, in cmd2\n",
      "        return cmd1(strings).split()\n",
      "      File \"C:\\Users\\admin\\AppData\\Local\\Temp\\pip-install-kgjr35vl\\mecab-python3\\setup.py\", line 18, in cmd1\n",
      "        return os.popen(strings).readlines()[0][:-1]\n",
      "    IndexError: list index out of range\n",
      "    \n",
      "    ----------------------------------------\n"
     ]
    },
    {
     "name": "stderr",
     "output_type": "stream",
     "text": [
      "Command \"python setup.py egg_info\" failed with error code 1 in C:\\Users\\admin\\AppData\\Local\\Temp\\pip-install-kgjr35vl\\mecab-python3\\\n"
     ]
    }
   ],
   "source": [
    "# プログレスバーとMeCabのインストール\n",
    "# MeCab 参考サイト：https://news.mynavi.jp/article/zeropython-26/\n",
    "!pip install tqdm\n",
    "!pip install ipywidgets # プログレスバーの表示で必要\n",
    "!apt-get install mecab libmecab-dev mecab-ipadic-utf8\n",
    "!pip install mecab-python3"
   ]
  },
  {
   "cell_type": "code",
   "execution_count": 3,
   "metadata": {
    "colab": {
     "base_uri": "https://localhost:8080/",
     "height": 35
    },
    "colab_type": "code",
    "executionInfo": {
     "elapsed": 29899,
     "status": "ok",
     "timestamp": 1538652321075,
     "user": {
      "displayName": "坂本倖輝",
      "photoUrl": "",
      "userId": "05392787309479156716"
     },
     "user_tz": -540
    },
    "id": "cl2MdwePJX0c",
    "outputId": "11b703ce-8e43-45e0-c0fd-6be5d89cc641"
   },
   "outputs": [
    {
     "name": "stdout",
     "output_type": "stream",
     "text": [
      "Mounted at /content/gdrive\n"
     ]
    }
   ],
   "source": [
    "# 参考サイト：https://qiita.com/uni-3/items/201aaa2708260cc790b8\n",
    "\n",
    "# drive内のディレクトリをマウントする\n",
    "from google.colab import drive\n",
    "drive.mount(\"/content/gdrive\")\n",
    "\n",
    "# 認証部分\n",
    "\n",
    "# Install the PyDrive wrapper & import libraries.\n",
    "# This only needs to be done once per notebook.\n",
    "!pip install -U -q PyDrive\n",
    "from pydrive.auth import GoogleAuth\n",
    "from pydrive.drive import GoogleDrive\n",
    "from google.colab import auth\n",
    "from oauth2client.client import GoogleCredentials\n",
    "\n",
    "# check auth\n",
    "auth.authenticate_user()\n",
    "gauth = GoogleAuth()\n",
    "gauth.credentials = GoogleCredentials.get_application_default()\n",
    "drive = GoogleDrive(gauth)\n",
    "\n",
    "# 読み込み部分\n",
    "downloaded = drive.CreateFile({'id':'1MDFE9qXab-tIs0dY1YexOMyKb8TP7r_C'})\n",
    "\n",
    "# Download the file to a local disk as 'my_svr_training_kit.py'.\n",
    "downloaded.GetContentFile('my_svr_training_kit.py')"
   ]
  },
  {
   "cell_type": "code",
   "execution_count": 4,
   "metadata": {
    "colab": {
     "base_uri": "https://localhost:8080/",
     "height": 35
    },
    "colab_type": "code",
    "executionInfo": {
     "elapsed": 1616,
     "status": "ok",
     "timestamp": 1538652328727,
     "user": {
      "displayName": "坂本倖輝",
      "photoUrl": "",
      "userId": "05392787309479156716"
     },
     "user_tz": -540
    },
    "id": "r3Tg1P13LCOF",
    "outputId": "72ba06b7-d7ed-414c-fb17-a1183b21d3eb"
   },
   "outputs": [
    {
     "name": "stdout",
     "output_type": "stream",
     "text": [
      "'My Drive'\n"
     ]
    }
   ],
   "source": [
    "# drive内のディレクトリをマウントした後のディレクトリ内確認\n",
    "!ls \"/content/gdrive\""
   ]
  },
  {
   "cell_type": "code",
   "execution_count": 5,
   "metadata": {
    "colab": {
     "base_uri": "https://localhost:8080/",
     "height": 35
    },
    "colab_type": "code",
    "executionInfo": {
     "elapsed": 1384,
     "status": "ok",
     "timestamp": 1538652332565,
     "user": {
      "displayName": "坂本倖輝",
      "photoUrl": "",
      "userId": "05392787309479156716"
     },
     "user_tz": -540
    },
    "id": "rBrBrRo3KsSO",
    "outputId": "a4274ea1-fdbf-4102-9bc8-bd889b9813a8"
   },
   "outputs": [
    {
     "name": "stdout",
     "output_type": "stream",
     "text": [
      "/content/gdrive/My Drive/sp_lecture_paper/src\n"
     ]
    }
   ],
   "source": [
    "# my_svr_training_kit.pyがある場所にチェンジディレクトリ\n",
    "%cd \"/content/gdrive/My Drive/sp_lecture_paper/src\""
   ]
  },
  {
   "cell_type": "code",
   "execution_count": 1,
   "metadata": {
    "colab": {},
    "colab_type": "code",
    "collapsed": true,
    "id": "wtGNNK9MI1dm"
   },
   "outputs": [],
   "source": [
    "## Google Colaboratoryで実行しない場合、このセルから実行すればOK\n",
    "import my_svr_training_kit as my_stkit\n",
    "from tqdm import tqdm_notebook as tqdm"
   ]
  },
  {
   "cell_type": "code",
   "execution_count": 2,
   "metadata": {},
   "outputs": [
    {
     "name": "stdout",
     "output_type": "stream",
     "text": [
      "Finished loading input vector, bag of words: about 0.034023284912109375 seconds.\n",
      "shape of bag of words vector: (9754, 6548)\n",
      "Finished getting all user talks from dialogue_corpus.db: about 0.21415257453918457 seconds.\n",
      "Finished making output vector, user acceptance labels: about 0.22716164588928223 seconds.\n",
      "len(y) = 9754\n",
      "訓練データ、交差検証データ、テストデータの数 = 5852 1951 1951\n",
      "Finished splitting data: about 1.2739050388336182 seconds.\n",
      "\n",
      "Finished standardization train_data and test_data: about 2.7639875411987305 seconds.\n",
      "Finished preparing train_data of SVR.\n",
      "\n"
     ]
    }
   ],
   "source": [
    "# 学習データ:テストデータ = 8:2に分割したデータを取得する\n",
    "X_train_norm, X_test_norm, y_train, y_test = my_stkit.prepare_traindata()"
   ]
  },
  {
   "cell_type": "code",
   "execution_count": 2,
   "metadata": {
    "colab": {
     "base_uri": "https://localhost:8080/",
     "height": 503
    },
    "colab_type": "code",
    "id": "9lUgAnlJI1ds",
    "outputId": "6799b715-c575-4af7-fd8b-35595140c96b",
    "scrolled": false
   },
   "outputs": [
    {
     "name": "stdout",
     "output_type": "stream",
     "text": [
      "Finished loading input vector, bag of words: about 0.025017976760864258 seconds.\n",
      "shape of bag of words vector: (9754, 6548)\n",
      "Finished getting all user talks from dialogue_corpus.db: about 0.1961357593536377 seconds.\n",
      "Finished making output vector, user acceptance labels: about 0.21215105056762695 seconds.\n",
      "len(y) = 9754\n",
      "訓練データ、交差検証データ、テストデータの数 = 5852 1951 1951\n",
      "Finished splitting data: about 0.9317975044250488 seconds.\n",
      "\n",
      "Finished standardization train_data and test_data: about 3.610603094100952 seconds.\n",
      "Finished preparing train_data of SVR.\n",
      "\n",
      "リッジ回帰\n",
      "Finished fitting Ridge model: about 14.103132009506226 seconds.\n",
      "accuracy of Ridge model: 0.051105226500055556, about 0.04303288459777832 seconds.\n",
      "Finished saving Ridge model as trained_ridge_model.pkl: about 0.006005287170410156 seconds.\n",
      "\n",
      "カーネル無し(線形カーネル)\n",
      "Finished fitting Linear SVR model: about 8488.83792591095 seconds.\n",
      "accuracy of Linear SVR model: -0.02302247791237666, about 144.44598054885864 seconds.\n",
      "Finished saving Linear SVR model as trained_linear_svr_model.pkl: about 0.5323805809020996 seconds.\n",
      "\n",
      "ガウシアンカーネル\n",
      "Finished fitting RBF SVR model: about 590.2907876968384 seconds.\n",
      "accuracy of RBF SVR model: 0.43980592965629134, about 145.392639875412 seconds.\n",
      "Finished saving RBF SVR model as trained_rbf_svr_model.pkl: about 0.6056420803070068 seconds.\n",
      "\n",
      "Finished training and caluculating scores of 3 models, and saving trained_models.\n",
      "\n"
     ]
    }
   ],
   "source": [
    "# ホールドアウト法に基づき、学習とテストを行う\n",
    "my_stkit.train_svr(X_train_norm, X_test_norm, y_train, y_test)"
   ]
  },
  {
   "cell_type": "markdown",
   "metadata": {},
   "source": [
    "# ホールドアウト法による学習結果\n",
    "\n",
    "## 各処理の所要時間や精度\n",
    "※全体の所要時間：3時間程度(8時間放置してたら終わってた)\n",
    "\n",
    "![SVRの学習結果](result_svr_training.jpg \"学習結果\")\n",
    "\n",
    "### リッジ回帰\n",
    "\n",
    "* モデルのフィッティング：14.103132009506226秒\n",
    "\n",
    "* テストデータに対する精度：0.051105226500055556、計算にかかった時間：0.04303288459777832秒\n",
    "\n",
    "* モデルの保存：0.006005287170410156秒\n",
    "\n",
    "### カーネル無し(線形カーネル)\n",
    "\n",
    "* モデルのフィッティング：8488.83792591095秒 = 2.35777777時間\n",
    "\n",
    "* テストデータに対する精度：-0.02302247791237666(マイナス！？)、計算にかかった時間：144.44598054885864秒 = 2.407433009147643分\n",
    "\n",
    "* モデルの保存：0.5323805809020996秒\n",
    "\n",
    "### ガウシアンカーネル\n",
    "\n",
    "* モデルのフィッティング：590.2907876968384秒 = 9.838179794947307分\n",
    "\n",
    "* テストデータに対する精度：0.43980592965629134、計算にかかった時間：145.392639875412秒 = 2.4232106645902分\n",
    "\n",
    "* モデルの保存：0.6056420803070068秒\n",
    "\n",
    "## 追記：パラメータのチューニング\n",
    "\n",
    "### リッジ回帰\n",
    "分割数24で6分程度、分割数を8に減らしたら2分少々でパラメータのフィッティングが終わった。\n",
    "\n",
    "### カーネル無し(線形カーネル)\n",
    "分割数を8にして9時間放置しても終わらなかった。  \n",
    "scikit-learnはGPUに対応していないからか、colaboratoryで2時間ほど放置しても終わらなかった。\n",
    "\n",
    "### ガウシアンカーネル\n",
    "線形カーネルがいつまで経っても終わらなかったため、所要時間を把握できていない。  \n",
    "ただ、モデルの学習時間を見た感じ、線形カーネルよりはずっと短そう。\n",
    "\n",
    "## 結論\n",
    "ガウシアンカーネルのパラメータをチューニングさせるのが一番良さそう。"
   ]
  },
  {
   "cell_type": "code",
   "execution_count": 3,
   "metadata": {},
   "outputs": [
    {
     "name": "stdout",
     "output_type": "stream",
     "text": [
      "ガウシアンカーネル\n",
      "Finished tuning parameters: about 137291.3233382702 seconds.\n",
      "C, εのチューニング\n",
      "最適なパラメーター = {'C': 2.0691380811147897, 'epsilon': 0.42813323987193935}\n",
      "精度 = 0.437369674666\n",
      "\n",
      "Finished fitting with tuned parameters: about 258.87052607536316 seconds.\n",
      "\n",
      "テストデータにフィット\n",
      "テストデータの精度 = 0.443303032001\n",
      "\n",
      "※参考\n",
      "訓練データの精度 = 0.681647789927\n",
      "交差検証データの精度 = 0.437369674666\n",
      "Finished calculating accuracies: about 414.0194990634918 seconds.\n",
      "\n",
      "Finished saving RBF SVR model as tuned_rbf_svr_model.pkl: about 0.33723950386047363 seconds.\n",
      "\n"
     ]
    }
   ],
   "source": [
    "# ガウシアンカーネルのパラメータをチューニング\n",
    "# -> チューニングしたパラメータでフィッティング\n",
    "# -> テストデータに対する精度を計算\n",
    "# -> チューニング済みのモデルを保存\n",
    "my_stkit.tuning_rbf_kernel_svr(X_train_norm, X_test_norm, y_train, y_test)"
   ]
  },
  {
   "cell_type": "markdown",
   "metadata": {},
   "source": [
    "# ガウシアンカーネル パラメータチューニング 結果\n",
    "\n",
    "## パラメータの候補値 8個\n",
    "※全体の所要時間：1時間程度\n",
    "\n",
    "![ガウシアンカーネルのパラメータチューニングの結果(パラメータの候補値8個)](result_rbf_svr_tuning_20params.jpg \"チューニング結果(パラメータの候補値8個)\")\n",
    "\n",
    "### パラメータのチューニング\n",
    "\n",
    "* 所要時間：2151.963869333267秒 = 35.86606448888778分\n",
    "\n",
    "* 最適なパラメーター = {'C': 1.0, 'epsilon': 0.10000000000000001}\n",
    "\n",
    "* 精度 = 0.41851268794\n",
    "\n",
    "### チューニングしたパラメータでのフィッティング\n",
    "\n",
    "* 所要時間：355.791232585907秒 = 5.929853876431783分\n",
    "\n",
    "* テストデータにフィット  \n",
    "テストデータの精度 = 0.418710205889\n",
    "\n",
    "* ※参考  \n",
    "訓練データの精度 = 0.623500332303  \n",
    "交差検証データの精度 = 0.41851268794  \n",
    "精度の計算時間：551.9204204082489秒 = 9.198673673470815分\n",
    "\n",
    "## パラメータの候補値 20個\n",
    "※全体の所要時間：36時間程度(10月5日12:57～10月7日1:49)\n",
    "\n",
    "![ガウシアンカーネルのパラメータチューニングの結果(パラメータの候補値20個)](result_rbf_svr_tuning_8params.jpg \"チューニング結果(パラメータの候補値20個)\")\n",
    "\n",
    "### パラメータのチューニング\n",
    "\n",
    "* 所要時間：137291.3233382702秒 = 38.13647870507506時間 = 1.589019946044794日\n",
    "\n",
    "* 最適なパラメーター = {'C': 2.0691380811147897, 'epsilon': 0.42813323987193935}\n",
    "\n",
    "* 精度 = 0.437369674666\n",
    "\n",
    "### チューニングしたパラメータでのフィッティング\n",
    "\n",
    "* 所要時間：258.87052607536316秒 = 4.314508767922718分\n",
    "\n",
    "* テストデータにフィット  \n",
    "テストデータの精度 = 0.443303032001\n",
    "\n",
    "* ※参考  \n",
    "訓練データの精度 = 0.681647789927  \n",
    "交差検証データの精度 = 0.437369674666  \n",
    "精度の計算時間：414.0194990634918秒 = 6.900324984391535分  \n",
    "\n",
    "↓  \n",
    "精度向上：パラメータ候補値を8個にして、二段グリッドサーチするしか無い・・・？"
   ]
  },
  {
   "cell_type": "code",
   "execution_count": 1,
   "metadata": {},
   "outputs": [
    {
     "name": "stdout",
     "output_type": "stream",
     "text": [
      "Finished loading input vector, bag of words: about 0.02902054786682129 seconds.\n",
      "shape of bag of words vector: (9754, 6548)\n",
      "Finished getting all user talks from dialogue_corpus.db: about 0.19512057304382324 seconds.\n",
      "Finished making output vector, user acceptance labels: about 0.2031261920928955 seconds.\n",
      "len(y) = 9754\n",
      "訓練データ、交差検証データ、テストデータの数 = 5852 1951 1951\n",
      "Finished splitting data: about 1.3109374046325684 seconds.\n",
      "\n",
      "Finished standardization train_data and test_data: about 3.226296901702881 seconds.\n",
      "Finished preparing train_data of SVR.\n",
      "\n",
      "平均二乗誤差MSE = 0.9462596970409166\n",
      "平均二乗誤差RMSE = 0.9727588072286555\n",
      "\n",
      "[ 1.42183811  2.9730976   2.52080883 ...,  2.83311699  1.92258212\n",
      "  2.72433184]\n",
      "\n",
      "[1 1 4 ..., 3 1 1]\n"
     ]
    }
   ],
   "source": [
    "# 学習させたモデルを平均二乗誤差により評価\n",
    "\n",
    "import my_svr_training_kit as my_stkit\n",
    "from sklearn.externals import joblib\n",
    "from sklearn.metrics import mean_squared_error\n",
    "import numpy as np\n",
    "\n",
    "# 学習データ:テストデータ = 8:2に分割したデータを取得する\n",
    "X_train_norm, X_test_norm, y_train, y_test = my_stkit.prepare_traindata()\n",
    "\n",
    "loaded_rbf_svr = joblib.load(\"tuned_rbf_svr_model.pkl\")\n",
    "\n",
    "pred_acceptance = loaded_rbf_svr.predict(X_test_norm)\n",
    "true_acceptance = y_test\n",
    "mse = mean_squared_error(true_acceptance, pred_acceptance)\n",
    "rmse = np.sqrt(mse)\n",
    "\n",
    "print(\"平均二乗誤差MSE = {}\".format(mse))\n",
    "print(\"平均二乗誤差RMSE = {}\".format(rmse))\n",
    "print()\n",
    "print(pred_acceptance)\n",
    "print()\n",
    "print(true_acceptance)"
   ]
  },
  {
   "cell_type": "code",
   "execution_count": null,
   "metadata": {
    "collapsed": true
   },
   "outputs": [],
   "source": []
  }
 ],
 "metadata": {
  "accelerator": "GPU",
  "colab": {
   "collapsed_sections": [],
   "name": "user_acceptance_svr_trainer.ipynb",
   "provenance": [],
   "version": "0.3.2"
  },
  "kernelspec": {
   "display_name": "Python 3",
   "language": "python",
   "name": "python3"
  },
  "language_info": {
   "codemirror_mode": {
    "name": "ipython",
    "version": 3
   },
   "file_extension": ".py",
   "mimetype": "text/x-python",
   "name": "python",
   "nbconvert_exporter": "python",
   "pygments_lexer": "ipython3",
   "version": "3.6.3"
  }
 },
 "nbformat": 4,
 "nbformat_minor": 1
}
