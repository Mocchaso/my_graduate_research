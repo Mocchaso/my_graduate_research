{
 "cells": [
  {
   "cell_type": "code",
   "execution_count": 1,
   "metadata": {
    "collapsed": true
   },
   "outputs": [],
   "source": [
    "import my_data_preparation_kit as my_dpkit\n",
    "from tqdm import tqdm_notebook as tqdm"
   ]
  },
  {
   "cell_type": "code",
   "execution_count": 2,
   "metadata": {
    "scrolled": true
   },
   "outputs": [
    {
     "name": "stdout",
     "output_type": "stream",
     "text": [
      "Getting usertalks only from dialogue_corpus took about 0.18114590644836426 seconds.\n",
      "Making a wakati usertalk list took about 0.1891179084777832 seconds.\n",
      "\n"
     ]
    },
    {
     "data": {
      "application/vnd.jupyter.widget-view+json": {
       "model_id": "0463eccf31a049ef95853f6c280df058",
       "version_major": 2,
       "version_minor": 0
      },
      "text/plain": [
       "A Jupyter Widget"
      ]
     },
     "metadata": {},
     "output_type": "display_data"
    },
    {
     "name": "stdout",
     "output_type": "stream",
     "text": [
      "Making bag of words vector of all_usertalks took about 0.8025717735290527 seconds.\n",
      "Saving bag of words vector of all_usertalks took about 5.061627388000488 seconds.\n"
     ]
    },
    {
     "ename": "ZeroDivisionError",
     "evalue": "division by zero",
     "output_type": "error",
     "traceback": [
      "\u001b[1;31m---------------------------------------------------------------------------\u001b[0m",
      "\u001b[1;31mZeroDivisionError\u001b[0m                         Traceback (most recent call last)",
      "\u001b[1;32m<ipython-input-2-10601184b649>\u001b[0m in \u001b[0;36m<module>\u001b[1;34m()\u001b[0m\n\u001b[0;32m     21\u001b[0m     \u001b[1;32melif\u001b[0m \u001b[0mi\u001b[0m \u001b[1;33m==\u001b[0m \u001b[1;36m1\u001b[0m\u001b[1;33m:\u001b[0m\u001b[1;33m\u001b[0m\u001b[0m\n\u001b[0;32m     22\u001b[0m         \u001b[1;31m# BoWに極性スコアの平均値を付加する（保存先 -> ./all_usertalks_bow_added_pn_ave.txt）\u001b[0m\u001b[1;33m\u001b[0m\u001b[1;33m\u001b[0m\u001b[0m\n\u001b[1;32m---> 23\u001b[1;33m         \u001b[0mfunc\u001b[0m\u001b[1;33m(\u001b[0m\u001b[0mmorphemes\u001b[0m\u001b[1;33m,\u001b[0m \u001b[0mnew_bow_json_name\u001b[0m\u001b[1;33m)\u001b[0m\u001b[1;33m\u001b[0m\u001b[0m\n\u001b[0m\u001b[0;32m     24\u001b[0m     \u001b[1;32melif\u001b[0m \u001b[0mi\u001b[0m \u001b[1;33m==\u001b[0m \u001b[1;36m2\u001b[0m\u001b[1;33m:\u001b[0m\u001b[1;33m\u001b[0m\u001b[0m\n\u001b[0;32m     25\u001b[0m         \u001b[1;31m# コーパスに含まれる全単語数の次元数のベクトルを用意する（保存先 -> ./svr_learning_feature.txt）\u001b[0m\u001b[1;33m\u001b[0m\u001b[1;33m\u001b[0m\u001b[0m\n",
      "\u001b[1;32m~\\data\\sp_lecture_paper\\src\\my_data_preparation_kit.py\u001b[0m in \u001b[0;36madd_pn_aves_to_bow\u001b[1;34m(morphemes, json_path)\u001b[0m\n\u001b[0;32m    308\u001b[0m         \u001b[0mword_pn_scores\u001b[0m \u001b[1;33m=\u001b[0m \u001b[1;33m[\u001b[0m\u001b[0mpn_table\u001b[0m\u001b[1;33m[\u001b[0m\u001b[0mword\u001b[0m\u001b[1;33m]\u001b[0m \u001b[1;32mfor\u001b[0m \u001b[0mword\u001b[0m \u001b[1;32min\u001b[0m \u001b[0mwakati_usertalk\u001b[0m\u001b[1;33m.\u001b[0m\u001b[0msplit\u001b[0m\u001b[1;33m(\u001b[0m\u001b[1;33m)\u001b[0m \u001b[1;32mif\u001b[0m \u001b[0mword\u001b[0m \u001b[1;32min\u001b[0m \u001b[0mpn_table\u001b[0m\u001b[1;33m.\u001b[0m\u001b[0mkeys\u001b[0m\u001b[1;33m(\u001b[0m\u001b[1;33m)\u001b[0m\u001b[1;33m]\u001b[0m\u001b[1;33m\u001b[0m\u001b[0m\n\u001b[0;32m    309\u001b[0m         \u001b[1;31m# 極性スコアの平均値\u001b[0m\u001b[1;33m\u001b[0m\u001b[1;33m\u001b[0m\u001b[0m\n\u001b[1;32m--> 310\u001b[1;33m         \u001b[0mword_pn_ave\u001b[0m \u001b[1;33m=\u001b[0m \u001b[0msum\u001b[0m\u001b[1;33m(\u001b[0m\u001b[0mword_pn_scores\u001b[0m\u001b[1;33m)\u001b[0m \u001b[1;33m/\u001b[0m \u001b[0mlen\u001b[0m\u001b[1;33m(\u001b[0m\u001b[0mword_pn_scores\u001b[0m\u001b[1;33m)\u001b[0m\u001b[1;33m\u001b[0m\u001b[0m\n\u001b[0m\u001b[0;32m    311\u001b[0m         \u001b[1;31m# bag of wordsに付与する\u001b[0m\u001b[1;33m\u001b[0m\u001b[1;33m\u001b[0m\u001b[0m\n\u001b[0;32m    312\u001b[0m         \u001b[1;31m# -> (row, col) = (発話, 単語および各単語の同義語 + 各発話の極性スコアの平均値)\u001b[0m\u001b[1;33m\u001b[0m\u001b[1;33m\u001b[0m\u001b[0m\n",
      "\u001b[1;31mZeroDivisionError\u001b[0m: division by zero"
     ]
    }
   ],
   "source": [
    "## 特徴量となるベクトルたちを作成、txtファイルとして保存する\n",
    "## このセルは1回実行しておくだけでOK。それ以降はtxtファイルを読み込む\n",
    "\n",
    "# 分かち書きされた全てのユーザ発話\n",
    "morphemes = my_dpkit.get_analyzed_all_usertalks()\n",
    "# 上のセルで保存したword_tableとsynonym_tableを読み込む\n",
    "word_table = my_dpkit.load_json_as_dict(my_dpkit.word_table_json_name)       # print(convert_dict_to_json(word_table, 4))   -> {\"u\\...\": [], ... }\n",
    "synonym_table = my_dpkit.load_json_as_dict(my_dpkit.synonym_table_json_name) # print(word_table[\"食べる\"])                  -> [235301]\n",
    "# 各JSONファイルの保存先のパス（ファイル名）\n",
    "bow_json_name = \"./all_usertalks_bow.txt\"\n",
    "new_bow_json_name = \"./all_usertalks_bow_added_pn_ave.txt\"\n",
    "svr_feature_json_name = \"./svr_learning_feature.txt\"\n",
    "\n",
    "# 進捗状況付きの関数リスト\n",
    "# 参考サイト：http://szarny.hatenablog.com/entry/2017/09/13/162752\n",
    "func_with_progress = tqdm([my_dpkit.extract_language_feature, my_dpkit.add_pn_aves_to_bow, my_dpkit.make_svr_learning_feature])\n",
    "for i, func in enumerate(func_with_progress):\n",
    "    if i == 0:\n",
    "        # 言語特徴量を抽出する（保存先 -> ./all_usertalks_bow.txt）\n",
    "        func(morphemes, word_table, synonym_table, bow_json_name)\n",
    "    elif i == 1:\n",
    "        # BoWに極性スコアの平均値を付加する（保存先 -> ./all_usertalks_bow_added_pn_ave.txt）\n",
    "        func(morphemes, new_bow_json_name)\n",
    "    elif i == 2:\n",
    "        # コーパスに含まれる全単語数の次元数のベクトルを用意する（保存先 -> ./svr_learning_feature.txt）\n",
    "        func(morphemes, word_table, svr_feature_json_name)"
   ]
  },
  {
   "cell_type": "code",
   "execution_count": null,
   "metadata": {
    "collapsed": true
   },
   "outputs": [],
   "source": [
    "def estimate_acceptance():\n",
    "    \"\"\"\n",
    "    ユーザの受諾度合いの推定\n",
    "    学習データ：入力とするユーザ発話の特徴ベクトルおよび出力する正解ラベル\n",
    "    正解ラベル->発話に付与される5段階のユーザの受諾度合いラベルを用いる\n",
    "    \"\"\"\n",
    "\n",
    "# システムから発話\n",
    "# ユーザの入力発話\n",
    "# ユーザの受諾度合いの推定\n",
    "# システム感情の遷移\n",
    "# 応答文選択\n",
    "# システムの応答"
   ]
  }
 ],
 "metadata": {
  "kernelspec": {
   "display_name": "Python 3",
   "language": "python",
   "name": "python3"
  },
  "language_info": {
   "codemirror_mode": {
    "name": "ipython",
    "version": 3
   },
   "file_extension": ".py",
   "mimetype": "text/x-python",
   "name": "python",
   "nbconvert_exporter": "python",
   "pygments_lexer": "ipython3",
   "version": "3.6.3"
  }
 },
 "nbformat": 4,
 "nbformat_minor": 2
}
